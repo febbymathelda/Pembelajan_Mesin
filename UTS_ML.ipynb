{
  "cells": [
    {
      "cell_type": "markdown",
      "metadata": {
        "id": "view-in-github",
        "colab_type": "text"
      },
      "source": [
        "<a href=\"https://colab.research.google.com/github/febbymathelda/Pembelajan_Mesin/blob/main/UTS_ML.ipynb\" target=\"_parent\"><img src=\"https://colab.research.google.com/assets/colab-badge.svg\" alt=\"Open In Colab\"/></a>"
      ]
    },
    {
      "cell_type": "markdown",
      "metadata": {
        "id": "W2FoZVgR-5Fy"
      },
      "source": [
        "# UJIAN TENGAH SEMESTER\n",
        "# Pembelajaran Mesin\n",
        "Klasifikasi Neural Network (NN) Pada Data Citra\n",
        "# Intro\n",
        "\n",
        "Pada UTS ini, Anda diminta untuk melakukan klasifikasi citra wajah dengan menggunakan dataset Casia-Webface (Data dapat diunduh pada Kaggle).\n",
        "Anda diperbolehkan melakukan eksplorasi terhadap:\n",
        "1. Metode pra pengolahan\n",
        "2. Pemilihan fitur\n",
        "3. Arsitektur ANN\n",
        "4. Fungsi Aktiviasi\n",
        "5. Metric Evaluasi"
      ]
    },
    {
      "cell_type": "markdown",
      "metadata": {
        "id": "fEDeQtT8-5F3"
      },
      "source": [
        "# Preparation"
      ]
    },
    {
      "cell_type": "code",
      "execution_count": null,
      "metadata": {
        "id": "Ph5GXT5F-5F4"
      },
      "outputs": [],
      "source": [
        "'''\n",
        "    Pada bagian ini Anda dapat memasukkan library yang dibutuhkan\n",
        "'''"
      ]
    },
    {
      "cell_type": "markdown",
      "metadata": {
        "id": "1fTRaKw7-5F6"
      },
      "source": [
        "# Load Data"
      ]
    },
    {
      "cell_type": "code",
      "execution_count": null,
      "metadata": {
        "id": "K1bV1k2D-5F6"
      },
      "outputs": [],
      "source": [
        "'''\n",
        "    Pada bagian ini Anda dapat memuat dataset Casia-Webface dan visualisasi data.\n",
        "'''"
      ]
    },
    {
      "cell_type": "markdown",
      "metadata": {
        "id": "7duACMxE-5F7"
      },
      "source": [
        "# Preprocessing"
      ]
    },
    {
      "cell_type": "code",
      "execution_count": null,
      "metadata": {
        "id": "Z6tGUE73-5F7"
      },
      "outputs": [],
      "source": [
        "'''\n",
        "    Pada bagian ini Anda diperbolehkan untuk melakukan proses pra pengolahan data (preprocessing) sesuai dengan kebutuhan. Pra pengolahan data dapat berupa,\n",
        "\n",
        "    1. Standardisasi nilai fitur ataupun label\n",
        "    2. Penyesuaian ukuran gambar\n",
        "    3. Perubahan colorspace gambar\n",
        "    4. dsb\n",
        "'''"
      ]
    },
    {
      "cell_type": "markdown",
      "metadata": {
        "id": "HJN5Mdzm-5F8"
      },
      "source": [
        "# Build Model"
      ]
    },
    {
      "cell_type": "code",
      "execution_count": null,
      "metadata": {
        "id": "rZoLO8ov-5F9"
      },
      "outputs": [],
      "source": [
        "'''\n",
        "    Pada bagian ini lakukan proses pembuatan model,\n",
        "\n",
        "    1. Pembuatan input layer, hidden layer, output layer\n",
        "    2. Menentukan fungsi aktivasi\n",
        "    3. Compile Model (Menentukan optimizer, loss, metrics)\n",
        "    3. Proses fitting model\n",
        "'''"
      ]
    },
    {
      "cell_type": "markdown",
      "metadata": {
        "id": "Q6aEOD0B-5F9"
      },
      "source": [
        "# Evaluation"
      ]
    },
    {
      "cell_type": "code",
      "execution_count": null,
      "metadata": {
        "id": "zgd0TS9v-5F-"
      },
      "outputs": [],
      "source": [
        "'''\n",
        "    Pada bagian ini, lakukan evaluasi terhadap data training dan data testing\n",
        "'''"
      ]
    }
  ],
  "metadata": {
    "kernelspec": {
      "display_name": "base",
      "language": "python",
      "name": "python3"
    },
    "language_info": {
      "name": "python",
      "version": "3.12.4"
    },
    "colab": {
      "provenance": [],
      "include_colab_link": true
    }
  },
  "nbformat": 4,
  "nbformat_minor": 0
}